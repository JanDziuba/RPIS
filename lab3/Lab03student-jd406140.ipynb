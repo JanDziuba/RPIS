{
 "cells": [
  {
   "cell_type": "markdown",
   "metadata": {},
   "source": [
    "# Mean and standard deviation"
   ]
  },
  {
   "cell_type": "markdown",
   "metadata": {},
   "source": [
    "**Problem 3a.** In this problem we look at the mean and the standard deviation from a more statistical point of view.\n",
    " * Generate $N=1\\,000$ values $x_1,\\ldots,x_n$ from Poisson($\\lambda$) distribution for $\\lambda=10$. You might want to use the function **poisson(lambda,shape)** from package **numpy.random**.\n",
    " * Plot a histogram of these values. What is the mean of Poisson($\\lambda$)? What is the standard deviation? Are these values a good description of what you see in the histogram?\n",
    " * For $i \\in \\{1,\\ldots,n\\}$ compute $\\bar{x}_i = \\frac{x_1+\\ldots+x_i}{i}$. Plot the values of $\\bar{x}_i$.\n",
    " * On the same figure, plot a horizontal line corresponding to the expected value ($\\lambda$) of all those averages.\n",
    " * Compute (analitically) the standard deviation $\\sigma_i$ of the $i$-th average and plot lines $\\lambda \\pm \\sigma_i$, again on the same figure.\n",
    " * Does the standard deviation accurately describe the *typical* deviations?"
   ]
  },
  {
   "cell_type": "markdown",
   "metadata": {},
   "source": [
    "**Problem 3b.** In this task we consider a discrete distribution *without a mean* and verify whether we can still estimate the location of its peak by simply computing averages. Consider a discrete variable $X$ with the following distribution: $P(X=k) = \\frac{1}{4|k|(|k|+1)}$ for $k \\neq 0$ and $P(X=0) = \\frac{1}{2}$. \n",
    " * Argue that these formulas indeed describe a discrete distribution.\n",
    " * Show that $X$ does not have a mean.\n",
    " * Plot the function $f(k) = P(X=k)$ for $k \\in [-10,10]$.\n",
    " * Write a function that samples from $X$'s distribution (imaginary bonus points if it is vectorized).\n",
    " * Generate $N=10\\,000$ values $x_1,\\ldots,x_n$ from the distribution.\n",
    " * For $i \\in \\{1,\\ldots,n\\}$ compute $\\bar{x}_i = \\frac{x_1+\\ldots+x_i}{i}$. \n",
    " * Plot the values of $\\bar{x}_i$. Does it look like the series converges? If it is not clear, you can compute several independent\n",
    "   $N$-means and plot a histogram, then increase $N$ significantly and see how it changes.\n",
    " * For $i \\in \\{1,\\ldots,n\\}$ compute $\\hat{x}_i = \\textrm{ median of }\\{x_1,\\ldots,x_i\\}$. \n",
    "   You do not need to do it in a clever way (like in ASD lab).\n",
    " * Plot the values of $\\hat{x}_i$. Does it look like the series converges? \n",
    " * A more interesting situation would be the one where you a given a distribution like $X+c$ for unknown $c$, and \n",
    "   want to figure out what $c$ is, i.e. find the center of the distribution. Both methods above attempt to\n",
    "   locate the center - which works better?"
   ]
  },
  {
   "cell_type": "markdown",
   "metadata": {},
   "source": [
    "**Problem 3c.** We are now going to investigate an intermediate case - a variable with a finite mean, but no variance. Consider a discrete variable $Y$ with the following distribution: $P(Y=k) = \\frac{1}{|k|(|k|+1)(|k|+2)}$ for $k \\neq 0$ and $P(Y=0) = \\frac{1}{2}$. \n",
    " * Argue that these formulas indeed describe a discrete distribution.\n",
    " * Show that $EY=0$, but $Y$ has no variation (i.e. the defining series is not absolutely convergent).\n",
    " * Plot the function $f(k) = P(Y=k)$ for $k \\in [-10,10]$.\n",
    " * Write a function that samples from $Y$'s distribution.\n",
    " * Generate $N=10\\,000$ values $y_1,\\ldots,y_n$ from the distribution.\n",
    " * For $i \\in \\{1,\\ldots,n\\}$ compute $\\bar{y}_i = \\frac{y_1+\\ldots+y_i}{i}$. \n",
    " * Plot the values of $\\bar{y}_i$. Does it look like the series converges?\n",
    " * For $i \\in \\{1,\\ldots,n\\}$ compute $\\hat{y}_i = \\textrm{ median of }\\{y_1,\\ldots,y_i\\}$.\n",
    " * Plot the values of $\\hat{y}_i$.\n",
    " * Discuss the results obtained."
   ]
  },
  {
   "cell_type": "code",
   "execution_count": 1,
   "metadata": {},
   "outputs": [],
   "source": [
    "#Argue that these formulas indeed describe a discrete distribution.\n",
    "\n",
    "# We can prove by induction that (sum 1/(k*(k+1)*(k+2)), k=1 to n) = 1/4 - 1/(2 (n + 1) (n + 2)) so\n",
    "# (sum 1/(|k|*(|k|+1)*(|k|+2)), k=-inf to inf) = 1/2\n"
   ]
  },
  {
   "cell_type": "code",
   "execution_count": 2,
   "metadata": {},
   "outputs": [],
   "source": [
    "#Show that 𝐸𝑌=0, but 𝑌 has no variation (i.e. the defining series is not absolutely convergent).\n",
    "\n",
    "# E(Y) = 0 because k and -k have the same probability mass\n",
    "\n",
    "# If variance exists, then\n",
    "# Var(Y) = E(Y^2)−(E(Y))^2, but E(Y) = 0, so Var(Y) = E(Y^2)\n",
    "# E(Y^2) = 0^2*(1/2) + (sum 2*(k^2)*(1/(k*(k+1)*(k+2)), k=1 to inf) =\n",
    "# = (sum (2 *k)/((k+1)*(k+2)), k=1 to infinity)\n",
    "# By the comparison test, with (sum 1/k, k=1 to infinity) the series diverges.\n",
    "# So 𝑌 has no variation.\n",
    "                      "
   ]
  },
  {
   "cell_type": "code",
   "execution_count": 3,
   "metadata": {},
   "outputs": [
    {
     "data": {
      "image/png": "[encoded data removed]",
      "text/plain": [
       "<Figure size 432x288 with 1 Axes>"
      ]
     },
     "metadata": {
      "needs_background": "light"
     },
     "output_type": "display_data"
    }
   ],
   "source": [
    "#Plot the function 𝑓(𝑘)=𝑃(𝑌=𝑘) for 𝑘∈[−10,10].\n",
    "import numpy as np\n",
    "import matplotlib.pyplot as plt\n",
    "%matplotlib inline\n",
    "import math\n",
    "import random\n",
    "\n",
    "def pmf(k):\n",
    "    if k == 0:\n",
    "        return 0.5\n",
    "    return 1/(abs(k)*(abs(k)+1)*(abs(k)+2))\n",
    "\n",
    "\n",
    "distribution_range = np.arange(-10, 11)\n",
    "\n",
    "plt.plot(distribution_range, np.vectorize(pmf)(distribution_range))\n",
    "plt.show()\n",
    "\n"
   ]
  },
  {
   "cell_type": "code",
   "execution_count": 4,
   "metadata": {},
   "outputs": [],
   "source": [
    "#Write a function that samples from 𝑌's distribution.\n",
    "import numpy as np\n",
    "import matplotlib.pyplot as plt\n",
    "%matplotlib inline\n",
    "import random\n",
    "\n",
    "\n",
    "def sample():\n",
    "    # P(Y = 0) = 1/2\n",
    "    if np.random.randint(2) == 0:\n",
    "        return 0\n",
    "        \n",
    "    # P(Y = k) = P(Y = -k)\n",
    "    if np.random.randint(2) == 0:\n",
    "        is_positive = True\n",
    "    else:\n",
    "        is_positive = False\n",
    "        \n",
    "    random = np.random.random()\n",
    "    Y = 1\n",
    "    \n",
    "    #(sum 1/(k*(k+1)*(k+2)), k=1 to n) = 1/4 - 1/(2 (n + 1) (n + 2))\n",
    "    probability_sum = 1 - 2/((Y + 1) * (Y + 2))\n",
    "    \n",
    "    while random > probability_sum:\n",
    "        Y *= 2\n",
    "        probability_sum = 1 - 2/((Y + 1) * (Y + 2))\n",
    "        \n",
    "    left_Y = Y // 2\n",
    "    right_Y = Y\n",
    "    \n",
    "    while left_Y != right_Y:\n",
    "        middle_Y = (left_Y + right_Y) // 2\n",
    "        \n",
    "        if 1 - 2/((middle_Y + 1) * (middle_Y + 2)) > random:\n",
    "            right_Y = middle_Y\n",
    "        else:\n",
    "            left_Y = middle_Y + 1\n",
    "            \n",
    "\n",
    "    if is_positive:\n",
    "        return left_Y\n",
    "    else:\n",
    "        return left_Y * (-1)\n",
    "    \n"
   ]
  },
  {
   "cell_type": "code",
   "execution_count": 5,
   "metadata": {},
   "outputs": [
    {
     "data": {
      "image/png": "[encoded data removed]",
      "text/plain": [
       "<Figure size 432x288 with 1 Axes>"
      ]
     },
     "metadata": {
      "needs_background": "light"
     },
     "output_type": "display_data"
    }
   ],
   "source": [
    "#Generate 𝑁=10000 values 𝑦1,…,𝑦𝑛 from the distribution.\n",
    "\n",
    "N = 10000\n",
    "\n",
    "def get_samples(sample_size):\n",
    "    sample_array = np.zeros(sample_size, dtype=int)\n",
    "    \n",
    "    for index in range(sample_size):\n",
    "        sample_array[index] = sample()\n",
    "\n",
    "    return sample_array\n",
    "\n",
    "distribution = get_samples(N)\n",
    "plt.hist(distribution, bins = range(-100, 100))\n",
    "plt.show()"
   ]
  },
  {
   "cell_type": "markdown",
   "metadata": {},
   "source": [
    " * For $i \\in \\{1,\\ldots,n\\}$ compute $\\bar{y}_i = \\frac{y_1+\\ldots+y_i}{i}$. \n",
    " * Plot the values of $\\bar{y}_i$. Does it look like the series converges?"
   ]
  },
  {
   "cell_type": "code",
   "execution_count": 6,
   "metadata": {},
   "outputs": [
    {
     "data": {
      "image/png": "[encoded data removed]",
      "text/plain": [
       "<Figure size 432x288 with 1 Axes>"
      ]
     },
     "metadata": {
      "needs_background": "light"
     },
     "output_type": "display_data"
    }
   ],
   "source": [
    "Xbar = np.cumsum(distribution)/np.arange(1,N+1)\n",
    "plt.plot(Xbar)\n",
    "plt.show()"
   ]
  },
  {
   "cell_type": "markdown",
   "metadata": {},
   "source": [
    " * For $i \\in \\{1,\\ldots,n\\}$ compute $\\hat{y}_i = \\textrm{ median of }\\{y_1,\\ldots,y_i\\}$.\n",
    " * Plot the values of $\\hat{y}_i$."
   ]
  },
  {
   "cell_type": "code",
   "execution_count": 7,
   "metadata": {},
   "outputs": [
    {
     "name": "stdout",
     "output_type": "stream",
     "text": [
      "[0. 0. 0. ... 0. 0. 0.]\n"
     ]
    },
    {
     "data": {
      "image/png": "[encoded data removed]",
      "text/plain": [
       "<Figure size 432x288 with 1 Axes>"
      ]
     },
     "metadata": {
      "needs_background": "light"
     },
     "output_type": "display_data"
    }
   ],
   "source": [
    "median_array = np.zeros(N)\n",
    "\n",
    "for index in range(N):\n",
    "    median_array[index] = np.median(distribution[:index + 1])\n",
    "\n",
    "print(median_array)\n",
    "\n",
    "plt.plot(median_array)\n",
    "plt.show()\n"
   ]
  }
 ],
 "metadata": {
  "kernelspec": {
   "display_name": "Python 3",
   "language": "python",
   "name": "python3"
  },
  "language_info": {
   "codemirror_mode": {
    "name": "ipython",
    "version": 3
   },
   "file_extension": ".py",
   "mimetype": "text/x-python",
   "name": "python",
   "nbconvert_exporter": "python",
   "pygments_lexer": "ipython3",
   "version": "3.6.9"
  }
 },
 "nbformat": 4,
 "nbformat_minor": 1
}
